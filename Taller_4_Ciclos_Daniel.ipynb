{
  "cells": [
    {
      "cell_type": "markdown",
      "id": "66beb5a1",
      "metadata": {
        "id": "66beb5a1"
      },
      "source": [
        "# Fundamentos de Programación para Ingeniería Mecánica\n",
        "## UPB Montería - 202310\n",
        "### Taller 4: Ciclos\n",
        "- Docente: Miguel Ortiz (miguel.ortizp@upb.edu.co)"
      ]
    },
    {
      "cell_type": "markdown",
      "id": "b4381f55",
      "metadata": {
        "id": "b4381f55"
      },
      "source": [
        "Datos del Estudiante:\n",
        "- Nombre: Daniel Manjarrez Ibañez\n",
        "- ID: 000521057\n",
        "- email: daniel.manjarrez@upb.edu.co"
      ]
    },
    {
      "cell_type": "markdown",
      "id": "433f35a0",
      "metadata": {
        "id": "433f35a0"
      },
      "source": [
        "Resuelva los siguientes ejercicios utilizando estructuras cíclicas y condicionales."
      ]
    },
    {
      "cell_type": "markdown",
      "id": "aead929b",
      "metadata": {
        "id": "aead929b"
      },
      "source": [
        "### Problema 1: Suma de Elementos (30xp)\n",
        "\n",
        "Indique cuál de los dos números ingresados por el usuario tiene una suma de dígitos mayor y la diferencia de estas sumas. Si las sumas de los dígitos son iguales, infórmelo al usuario. \n",
        "\n",
        "**Ejemplo:**\n",
        "\n",
        "```\n",
        "Ingrese el primer número: 23672646\n",
        "Ingrese el segundo número: 12653686\n",
        "La suma de los elementos de la lista 2 es mayor que la suma de los elementos de la lista 1 en 1 unidades.\n",
        "```\n",
        "\n",
        "**Recomendación:** pruebe su algoritmo con listas de prueba:\n",
        "- `lst_1`: lista que representa el primer número. Por ejemplo: dígitos del número de su documento de identidad\n",
        "- `lst_2`: lista que representa el segundo número. Por ejemplo: dígitos del número de su id\n",
        "\n",
        "**Nota:** para leer un número ingresado por el usuario y convertirlo en lista puede utilizar las siguientes instrucciones:\n",
        "\n",
        "```python\n",
        "num = input('Número: ')\n",
        "lst = [int(x) for x in num]\n",
        "```"
      ]
    },
    {
      "cell_type": "code",
      "execution_count": 1,
      "id": "46b47e9b",
      "metadata": {
        "id": "46b47e9b",
        "outputId": "33376b65-9ef5-413a-93a5-49c36aca55b1",
        "colab": {
          "base_uri": "https://localhost:8080/"
        }
      },
      "outputs": [
        {
          "output_type": "stream",
          "name": "stdout",
          "text": [
            "Numero_1:)1067872869\n",
            "Numero_2;)000521057\n",
            "La suma de los elementos del Numero(s)_1 es mayor que los del Numero(s)_2 en 34 unidades.\n"
          ]
        }
      ],
      "source": [
        "num1 = input(\"Numero_1:)\")\n",
        "lst1 = [int(x) for x in num1]\n",
        "num2 = input(\"Numero_2;)\")\n",
        "lst2 = [int(x) for x in num2]\n",
        "\n",
        "sum1 = sum(lst1)\n",
        "sum2 = sum(lst2)\n",
        "\n",
        "if sum1 == sum2:\n",
        "  print(\"Las sum son iguales:/\")\n",
        "else:\n",
        "  diff = (sum1 - sum2)\n",
        "  if sum1 > sum2:\n",
        "    print(\"La suma de los elementos del Numero(s)_1 es mayor que los del Numero(s)_2 en\",diff, \"unidades.\")\n",
        "  else:\n",
        "    print(\"La suma de los elementos del Numero(s)_2 es mayor que los del Numero(s)_1 en\",diff,\"unidades\")"
      ]
    },
    {
      "cell_type": "markdown",
      "id": "986a4945",
      "metadata": {
        "id": "986a4945"
      },
      "source": [
        "### Problema 2: Suma Objetivo (50xp)\n",
        "\n",
        "Indique si la suma de los dígitos de un número de verificación alcanza un valor objetivo. Si obtiene el valor objetivo antes de finalizar el recorrido por todos los dígitos del número, indique la iteración en la que se obtuvo este valor. Tenga en cuenta que tanto el valor objetivo como el número de verificación son ingresados por el usuario. En cualquiera de los casos, muestre el resultado obtenido de la suma de los dígitos.\n",
        "\n",
        "**Ejemplo:**\n",
        "```\n",
        "Ingrese número de suma objetivo: 15\n",
        "Ingrese número para validar suma de dígitos: 1234562\n",
        "Suma obtenida en iteración 5 de 7\n",
        "Resultado obtenido: 15\n",
        "Alcanzó el valor objetivo.\n",
        "```\n",
        "\n",
        "**Recomendación:** pruebe su algoritmo con números y listas de prueba:\n",
        "- `n_obj`: valor objetivo\n",
        "- `lst`: lista que representa el número de verificación. Por ejemplo: dígitos del número de su id\n",
        "\n",
        "**Nota:** para leer un número ingresado por el usuario y convertirlo en lista puede utilizar las siguientes instrucciones:\n",
        "\n",
        "```python\n",
        "num = input('Número: ')\n",
        "lst = [int(x) for x in num]\n",
        "```"
      ]
    },
    {
      "cell_type": "code",
      "execution_count": 4,
      "id": "895f4399",
      "metadata": {
        "id": "895f4399",
        "outputId": "e4a6abf4-9047-4c4a-982a-b27ff6918d59",
        "colab": {
          "base_uri": "https://localhost:8080/"
        }
      },
      "outputs": [
        {
          "output_type": "stream",
          "name": "stdout",
          "text": [
            "Ingrese el numero de la suma del objetivo:/15\n",
            "Ingrese el numero para validar la suma de digitos;/000521057\n",
            "suma obtenida de iteracion 9 de 9\n",
            "Resultado obtenido: 20\n",
            "Alcanzo el valor obtenido:\n"
          ]
        }
      ],
      "source": [
        "n_obj = int(input(\"Ingrese el numero de la suma del objetivo:/\"))\n",
        "num = input(\"Ingrese el numero para validar la suma de digitos;/\")\n",
        "lst = [int(x) for x in num]\n",
        "\n",
        "sum = 0\n",
        "\n",
        "for i in range(len(lst)):\n",
        "  sum += lst[i]\n",
        "  if sum >= n_obj:\n",
        "    print(f\"suma obtenida de iteracion {i+1} de {len(lst)}\")\n",
        "    print(f\"Resultado obtenido: {sum}\")\n",
        "    print(\"Alcanzo el valor obtenido:\")\n",
        "    break\n",
        "else:\n",
        "  print(\"Resultado obtenido:{sum}\")\n",
        "  print(\"No alcanzo el valor obtenido:\")"
      ]
    },
    {
      "cell_type": "markdown",
      "id": "0b532b9b",
      "metadata": {
        "id": "0b532b9b"
      },
      "source": [
        "### Problema 3: Dígito Mayor (40xp)\n",
        "\n",
        "Indique el dígito de mayor valor y su posición en un número ingresado por el usuario. En caso de que el dígito mayor se repita, se debe retornar el índice del primero de ellos que fue encontrado. \n",
        "\n",
        "**Ejemplo:**\n",
        "\n",
        "```\n",
        "Ingrese número: 123753569054\n",
        "El dígito mayor de la lista es 9\n",
        "El número se encontró en la posición 8\n",
        "```\n",
        "\n",
        "**Recomendación:** pruebe su algoritmo con listas de prueba:\n",
        "- `lst`: lista que representa el número a evaluar. Por ejemplo: dígitos del número de su documento de identidad\n",
        "\n",
        "**Nota:** para leer un número ingresado por el usuario y convertirlo en lista puede utilizar las siguientes instrucciones:\n",
        "\n",
        "```python\n",
        "num = input('Número: ')\n",
        "lst = [int(x) for x in num]\n",
        "```"
      ]
    },
    {
      "cell_type": "code",
      "execution_count": 7,
      "id": "9159f388",
      "metadata": {
        "scrolled": true,
        "id": "9159f388",
        "outputId": "48612fea-9a51-4f88-ccd3-77469433ca26",
        "colab": {
          "base_uri": "https://localhost:8080/"
        }
      },
      "outputs": [
        {
          "output_type": "stream",
          "name": "stdout",
          "text": [
            "Ingresar numero(s);)1067872869\n",
            "El digito 9imayor de la lista es 9\n",
            "El numero que se encontro en la posicion 9\n"
          ]
        }
      ],
      "source": [
        "num = input(\"Ingresar numero(s);)\")\n",
        "lst = [int(x) for x in num]\n",
        "\n",
        "mayor = lst [0]\n",
        "posicion = [0]\n",
        "\n",
        "for i in range(1,len(lst)):\n",
        "  if lst [i] > mayor:\n",
        "    mayor = lst[i]\n",
        "    posicion = i\n",
        "print(\"El digito 9imayor de la lista es\", mayor)\n",
        "print(\"El numero que se encontro en la posicion\",posicion)"
      ]
    },
    {
      "cell_type": "markdown",
      "id": "03af9108",
      "metadata": {
        "id": "03af9108"
      },
      "source": [
        "### Problema 4: Valores que coinciden (50xp)\n",
        "\n",
        "Indique las posiciones (índices) en los cuales se encuentran los mismos valores de los dígitos en dos números ingresados por el usuario. El algoritmo debe verificar que los números tengan la misma longitud (igual número de dígitos). Si ninguno de los dígitos de los números coincide, también debe informarlo al usuario. \n",
        "\n",
        "**Ejemplo:**\n",
        "\n",
        "```\n",
        "Ingrese el primer número: 124646272\n",
        "Ingrese el segundo número: 354849136\n",
        "Los números tienen 2 dígitos(s) en común en la(s) posición(es): [2, 4]\n",
        "```\n",
        "\n",
        "**Recomendación:** pruebe su algoritmo con listas de prueba:\n",
        "- `lst_1`: lista que representa el primer número. \n",
        "- `lst_2`: lista que representa el segundo número. \n",
        "\n",
        "**Nota:** para leer un número ingresado por el usuario y convertirlo en lista puede utilizar las siguientes instrucciones:\n",
        "\n",
        "```python\n",
        "num = input('Número: ')\n",
        "lst = [int(x) for x in num]\n",
        "```"
      ]
    },
    {
      "cell_type": "code",
      "execution_count": null,
      "id": "85469377",
      "metadata": {
        "id": "85469377",
        "outputId": "20311866-588e-4730-cfd3-1dbf13b86d34",
        "colab": {
          "base_uri": "https://localhost:8080/"
        }
      },
      "outputs": [
        {
          "output_type": "stream",
          "name": "stdout",
          "text": [
            "Ingrese el number_1;(000521057\n",
            "Ingrese el number_2;)1067872869\n",
            "Los numeros no tienen igual cantidad de digitos:)\n",
            "Los numeros tienen 1 digitos en comun en las posiciones: [1]\n"
          ]
        }
      ],
      "source": [
        "num_1 = input(\"Ingrese el number_1;(\")\n",
        "lst_1 = [int(x) for x in num_1]\n",
        "\n",
        "num_2 = input(\"Ingrese el number_2;)\")\n",
        "lst_2 = [int(x) for x in num_2]\n",
        "\n",
        "if len(lst_1) != len(lst_2):\n",
        "  print(\"Los numeros no tienen igualdvd cantidad de digitos:)\")\n",
        "  exit()\n",
        "\n",
        "posiciones = []\n",
        "for i in range(len(lst_1)):\n",
        "  if lst_1 [i] == lst_2 [i]:\n",
        "    posiciones.append(i)\n",
        "\n",
        "if len(posiciones) == 0:\n",
        "  print(\"No hay digitos coincidentes en los numeros:)\")\n",
        "else:\n",
        "  print(\"Los numeros tienen\", len(posiciones), \"digitos en comun en las posiciones:\", posiciones)"
      ]
    }
  ],
  "metadata": {
    "kernelspec": {
      "display_name": "Python 3 (ipykernel)",
      "language": "python",
      "name": "python3"
    },
    "language_info": {
      "codemirror_mode": {
        "name": "ipython",
        "version": 3
      },
      "file_extension": ".py",
      "mimetype": "text/x-python",
      "name": "python",
      "nbconvert_exporter": "python",
      "pygments_lexer": "ipython3",
      "version": "3.10.6"
    },
    "colab": {
      "provenance": []
    }
  },
  "nbformat": 4,
  "nbformat_minor": 5
}